{
 "cells": [
  {
   "cell_type": "markdown",
   "id": "fca12fc7-8b63-46a2-b87e-00179e2deb66",
   "metadata": {},
   "source": [
    "# create an empty tuple"
   ]
  },
  {
   "cell_type": "code",
   "execution_count": 1,
   "id": "2ac48c37-4328-4ef9-a686-354b64a834d5",
   "metadata": {},
   "outputs": [
    {
     "name": "stdout",
     "output_type": "stream",
     "text": [
      "Empty tuple: ()\n"
     ]
    }
   ],
   "source": [
    "empty_tuple=()\n",
    "print(\"Empty tuple:\",empty_tuple)"
   ]
  },
  {
   "cell_type": "code",
   "execution_count": null,
   "id": "5dfbb9be-fced-444e-9f9d-c3db0938d59a",
   "metadata": {},
   "outputs": [],
   "source": []
  },
  {
   "cell_type": "markdown",
   "id": "0e1396ad-8957-4ee0-817b-fe714884fb71",
   "metadata": {},
   "source": [
    "# python tuple index"
   ]
  },
  {
   "cell_type": "code",
   "execution_count": 2,
   "id": "07f39cf2-c238-4434-b030-ceadf1a1a3b8",
   "metadata": {},
   "outputs": [
    {
     "name": "stdout",
     "output_type": "stream",
     "text": [
      "3\n"
     ]
    }
   ],
   "source": [
    "# tuple containing vowels \n",
    "vowels = ('G','R','A','P','E','S')\n",
    "# index of 'P' in vowels\n",
    "index = vowels.index('P')\n",
    "print(index)"
   ]
  },
  {
   "cell_type": "code",
   "execution_count": null,
   "id": "7c06d30b-6945-47a5-85cc-76e6cf101cc6",
   "metadata": {},
   "outputs": [],
   "source": []
  },
  {
   "cell_type": "markdown",
   "id": "3c842ab2-c797-48a4-9fc6-f146976e7cb1",
   "metadata": {},
   "source": [
    "# maxium method tuple"
   ]
  },
  {
   "cell_type": "code",
   "execution_count": 3,
   "id": "0db2d1d0-f5ed-4f02-b52e-b66339e3dc84",
   "metadata": {},
   "outputs": [
    {
     "name": "stdout",
     "output_type": "stream",
     "text": [
      "98\n"
     ]
    }
   ],
   "source": [
    "my_tuple = (45,65,79,98,89,46,50,67,59,60,43,61,52,81,)\n",
    "print(max(my_tuple))"
   ]
  },
  {
   "cell_type": "code",
   "execution_count": null,
   "id": "ceb9da2e-dd18-4d85-95e5-0eb11e727f6b",
   "metadata": {},
   "outputs": [],
   "source": []
  },
  {
   "cell_type": "markdown",
   "id": "6f5dacf6-3ee8-4f51-9585-922952b9f2ac",
   "metadata": {},
   "source": [
    "# sum method tuple"
   ]
  },
  {
   "cell_type": "code",
   "execution_count": 4,
   "id": "76b31f19-bd22-483d-846b-7b154ab38667",
   "metadata": {},
   "outputs": [
    {
     "name": "stdout",
     "output_type": "stream",
     "text": [
      "433\n"
     ]
    }
   ],
   "source": [
    "my_tuple = (45,65,84,76,80,64,19)\n",
    "print(sum(my_tuple))"
   ]
  },
  {
   "cell_type": "code",
   "execution_count": null,
   "id": "9b476981-8e8a-40dc-a1c5-05691b785776",
   "metadata": {},
   "outputs": [],
   "source": []
  },
  {
   "cell_type": "markdown",
   "id": "9c558301-4bb3-4a79-80c6-637dd2f5470a",
   "metadata": {},
   "source": [
    "# python tuple length"
   ]
  },
  {
   "cell_type": "code",
   "execution_count": 5,
   "id": "1464e29b-9d97-48d6-821b-4198950ef339",
   "metadata": {},
   "outputs": [
    {
     "name": "stdout",
     "output_type": "stream",
     "text": [
      "6\n"
     ]
    }
   ],
   "source": [
    "places = ('delhi','mumbai','pune','nashik','kolhapur','nagpur',)\n",
    "print(len(places))"
   ]
  },
  {
   "cell_type": "code",
   "execution_count": null,
   "id": "b8509da0-b5d2-4931-94a0-86ad5db06d52",
   "metadata": {},
   "outputs": [],
   "source": []
  }
 ],
 "metadata": {
  "kernelspec": {
   "display_name": "Python 3 (ipykernel)",
   "language": "python",
   "name": "python3"
  },
  "language_info": {
   "codemirror_mode": {
    "name": "ipython",
    "version": 3
   },
   "file_extension": ".py",
   "mimetype": "text/x-python",
   "name": "python",
   "nbconvert_exporter": "python",
   "pygments_lexer": "ipython3",
   "version": "3.11.7"
  }
 },
 "nbformat": 4,
 "nbformat_minor": 5
}
